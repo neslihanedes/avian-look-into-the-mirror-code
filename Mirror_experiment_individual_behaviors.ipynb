{
 "cells": [
  {
   "cell_type": "code",
   "execution_count": 1,
   "metadata": {},
   "outputs": [],
   "source": [
    "import pandas as pd\n",
    "import numpy as np\n",
    "from math import sqrt\n",
    "import matplotlib.pyplot as plt\n",
    "from tqdm.notebook import trange, tqdm\n",
    "import glob\n",
    "import seaborn as sns\n",
    "import pingouin as pg\n",
    "import warnings\n",
    "warnings.filterwarnings('ignore')\n",
    "sns.set()\n",
    "plt.rcParams[\"font.family\"] = \"Times New Roman\""
   ]
  },
  {
   "cell_type": "code",
   "execution_count": 2,
   "metadata": {},
   "outputs": [],
   "source": [
    "df = pd.read_excel('self_oriented_behaviours.xlsx') # result file needs to exist in working directory"
   ]
  },
  {
   "cell_type": "code",
   "execution_count": 3,
   "metadata": {},
   "outputs": [
    {
     "data": {
      "text/html": [
       "<div>\n",
       "<style scoped>\n",
       "    .dataframe tbody tr th:only-of-type {\n",
       "        vertical-align: middle;\n",
       "    }\n",
       "\n",
       "    .dataframe tbody tr th {\n",
       "        vertical-align: top;\n",
       "    }\n",
       "\n",
       "    .dataframe thead th {\n",
       "        text-align: right;\n",
       "    }\n",
       "</style>\n",
       "<table border=\"1\" class=\"dataframe\">\n",
       "  <thead>\n",
       "    <tr style=\"text-align: right;\">\n",
       "      <th></th>\n",
       "      <th>Source</th>\n",
       "      <th>SS</th>\n",
       "      <th>ddof1</th>\n",
       "      <th>ddof2</th>\n",
       "      <th>MS</th>\n",
       "      <th>F</th>\n",
       "      <th>p-unc</th>\n",
       "      <th>p-GG-corr</th>\n",
       "      <th>np2</th>\n",
       "      <th>eps</th>\n",
       "    </tr>\n",
       "  </thead>\n",
       "  <tbody>\n",
       "    <tr>\n",
       "      <th>0</th>\n",
       "      <td>CONDITION</td>\n",
       "      <td>357.791667</td>\n",
       "      <td>2</td>\n",
       "      <td>14</td>\n",
       "      <td>178.895833</td>\n",
       "      <td>4.432926</td>\n",
       "      <td>0.032254</td>\n",
       "      <td>0.053551</td>\n",
       "      <td>0.387733</td>\n",
       "      <td>0.689762</td>\n",
       "    </tr>\n",
       "    <tr>\n",
       "      <th>1</th>\n",
       "      <td>DAY</td>\n",
       "      <td>606.562500</td>\n",
       "      <td>5</td>\n",
       "      <td>35</td>\n",
       "      <td>121.312500</td>\n",
       "      <td>4.281408</td>\n",
       "      <td>0.003833</td>\n",
       "      <td>0.017450</td>\n",
       "      <td>0.379510</td>\n",
       "      <td>0.586354</td>\n",
       "    </tr>\n",
       "    <tr>\n",
       "      <th>2</th>\n",
       "      <td>CONDITION * DAY</td>\n",
       "      <td>232.708333</td>\n",
       "      <td>10</td>\n",
       "      <td>70</td>\n",
       "      <td>23.270833</td>\n",
       "      <td>0.844670</td>\n",
       "      <td>0.587893</td>\n",
       "      <td>0.481260</td>\n",
       "      <td>0.107674</td>\n",
       "      <td>0.287542</td>\n",
       "    </tr>\n",
       "  </tbody>\n",
       "</table>\n",
       "</div>"
      ],
      "text/plain": [
       "            Source          SS  ddof1  ddof2          MS         F     p-unc  \\\n",
       "0        CONDITION  357.791667      2     14  178.895833  4.432926  0.032254   \n",
       "1              DAY  606.562500      5     35  121.312500  4.281408  0.003833   \n",
       "2  CONDITION * DAY  232.708333     10     70   23.270833  0.844670  0.587893   \n",
       "\n",
       "   p-GG-corr       np2       eps  \n",
       "0   0.053551  0.387733  0.689762  \n",
       "1   0.017450  0.379510  0.586354  \n",
       "2   0.481260  0.107674  0.287542  "
      ]
     },
     "metadata": {},
     "output_type": "display_data"
    }
   ],
   "source": [
    "aov = pg.rm_anova(dv='self oriented',\n",
    "                  within=['CONDITION','DAY'],\n",
    "                  subject='pigeon_id', data=df)\n",
    "display(aov)"
   ]
  },
  {
   "cell_type": "code",
   "execution_count": 4,
   "metadata": {},
   "outputs": [
    {
     "data": {
      "text/html": [
       "<div>\n",
       "<style scoped>\n",
       "    .dataframe tbody tr th:only-of-type {\n",
       "        vertical-align: middle;\n",
       "    }\n",
       "\n",
       "    .dataframe tbody tr th {\n",
       "        vertical-align: top;\n",
       "    }\n",
       "\n",
       "    .dataframe thead th {\n",
       "        text-align: right;\n",
       "    }\n",
       "</style>\n",
       "<table border=\"1\" class=\"dataframe\">\n",
       "  <thead>\n",
       "    <tr style=\"text-align: right;\">\n",
       "      <th></th>\n",
       "      <th>A</th>\n",
       "      <th>B</th>\n",
       "      <th>mean(A)</th>\n",
       "      <th>mean(B)</th>\n",
       "      <th>diff</th>\n",
       "      <th>se</th>\n",
       "      <th>T</th>\n",
       "      <th>p-tukey</th>\n",
       "      <th>hedges</th>\n",
       "    </tr>\n",
       "  </thead>\n",
       "  <tbody>\n",
       "    <tr>\n",
       "      <th>0</th>\n",
       "      <td>MIRROR</td>\n",
       "      <td>STRANGER</td>\n",
       "      <td>9.396</td>\n",
       "      <td>12.750</td>\n",
       "      <td>-3.354</td>\n",
       "      <td>1.256</td>\n",
       "      <td>-2.671</td>\n",
       "      <td>0.021</td>\n",
       "      <td>-0.541</td>\n",
       "    </tr>\n",
       "    <tr>\n",
       "      <th>1</th>\n",
       "      <td>MIRROR</td>\n",
       "      <td>WALL</td>\n",
       "      <td>9.396</td>\n",
       "      <td>9.417</td>\n",
       "      <td>-0.021</td>\n",
       "      <td>1.256</td>\n",
       "      <td>-0.017</td>\n",
       "      <td>0.900</td>\n",
       "      <td>-0.003</td>\n",
       "    </tr>\n",
       "    <tr>\n",
       "      <th>2</th>\n",
       "      <td>STRANGER</td>\n",
       "      <td>WALL</td>\n",
       "      <td>12.750</td>\n",
       "      <td>9.417</td>\n",
       "      <td>3.333</td>\n",
       "      <td>1.256</td>\n",
       "      <td>2.654</td>\n",
       "      <td>0.022</td>\n",
       "      <td>0.537</td>\n",
       "    </tr>\n",
       "  </tbody>\n",
       "</table>\n",
       "</div>"
      ],
      "text/plain": [
       "          A         B  mean(A)  mean(B)   diff     se      T  p-tukey  hedges\n",
       "0    MIRROR  STRANGER    9.396   12.750 -3.354  1.256 -2.671    0.021  -0.541\n",
       "1    MIRROR      WALL    9.396    9.417 -0.021  1.256 -0.017    0.900  -0.003\n",
       "2  STRANGER      WALL   12.750    9.417  3.333  1.256  2.654    0.022   0.537"
      ]
     },
     "execution_count": 4,
     "metadata": {},
     "output_type": "execute_result"
    }
   ],
   "source": [
    "df.pairwise_tukey(dv='self oriented', between='CONDITION').round(3)"
   ]
  },
  {
   "cell_type": "code",
   "execution_count": 5,
   "metadata": {},
   "outputs": [
    {
     "data": {
      "text/plain": [
       "<matplotlib.axes._subplots.AxesSubplot at 0x7ffe4dcf2e50>"
      ]
     },
     "metadata": {},
     "output_type": "display_data"
    },
    {
     "data": {
      "image/png": "[encoded data removed]",
      "text/plain": [
       "<Figure size 576x576 with 1 Axes>"
      ]
     },
     "metadata": {},
     "output_type": "display_data"
    }
   ],
   "source": [
    "# Box plot visualization of self-oriented behaviours\n",
    "\n",
    "sns.set_style(style='white')\n",
    "plt.rcParams['figure.figsize'] = [8, 8]\n",
    "plt.rcParams[\"font.family\"] = \"Times New Roman\"\n",
    "plt.rcParams['ytick.labelsize'] = 15\n",
    "plt.rcParams['xtick.labelsize'] = 20\n",
    "plt.rcParams['axes.labelsize'] = 20\n",
    "\n",
    "# Colors taken from other plots done with R\n",
    "colors = [\"#807fff\", \"#fd7f82\", \"#84a97e\"]\n",
    "sns.set_palette(sns.color_palette(colors))\n",
    "\n",
    "a = sns.boxplot(x=\"CONDITION\", y='self oriented', data=df,\n",
    "               order=['MIRROR', 'STRANGER', 'WALL'], fliersize=0)\n",
    "\n",
    "a.set_xlabel(\"\")\n",
    "a.set_ylabel(\"distribution of self-oriented behaviours\")\n",
    "a.set_xticklabels(['mirror','stranger','wall'])\n",
    "a.set_ylim([-1, 35]) \n",
    "\n",
    "# statistical annotation\n",
    "x1, x2 = 0, 1   # columns 'mirror' and 'stranger'\n",
    "y, h, col = df['self oriented'].max() + 2, 2, 'k'\n",
    "plt.rcParams[\"font.family\"] = \"serif\"\n",
    "plt.plot([x1, x1, x2-0.1, x2-0.1], [y, y+h, y+h, y], lw=1.5, c=col)\n",
    "plt.text((x1+x2)*.5, y+h, \"*\", fontsize=15, ha='center', va='bottom', color=col)\n",
    "\n",
    "x2,x3 = 1, 2\n",
    "y, h, col = df['self oriented'].max() + 2, 2, 'k'\n",
    "plt.rcParams[\"font.family\"] = \"serif\"\n",
    "plt.plot([x2+0.1, x2+0.1, x3, x3], [y, y+h, y+h, y], lw=1.5, c=col)\n",
    "plt.text((x2+x3)*.5, y+h, \"*\", fontsize=15, ha='center', va='bottom', color=col)\n",
    "\n",
    "display(a)"
   ]
  }
 ],
 "metadata": {
  "kernelspec": {
   "display_name": "Python 3",
   "language": "python",
   "name": "python3"
  },
  "language_info": {
   "codemirror_mode": {
    "name": "ipython",
    "version": 3
   },
   "file_extension": ".py",
   "mimetype": "text/x-python",
   "name": "python",
   "nbconvert_exporter": "python",
   "pygments_lexer": "ipython3",
   "version": "3.7.6"
  }
 },
 "nbformat": 4,
 "nbformat_minor": 4
}
